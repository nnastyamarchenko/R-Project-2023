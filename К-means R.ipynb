{
 "cells": [
  {
   "cell_type": "raw",
   "id": "80778821",
   "metadata": {},
   "source": [
    "!pip install -- sklearn"
   ]
  },
  {
   "cell_type": "code",
   "execution_count": 2,
   "id": "4c770c35",
   "metadata": {},
   "outputs": [],
   "source": [
    "#0 подгружаем нудные пакеты для кластеризации\n",
    "from sklearn import datasets\n",
    "from sklearn.preprocessing import StandardScaler\n",
    "from sklearn.cluster import KMeans"
   ]
  },
  {
   "cell_type": "code",
   "execution_count": null,
   "id": "81f6f8b0",
   "metadata": {},
   "outputs": [],
   "source": [
    "#0 и для загрузки csv\n",
    "import pandas as pd"
   ]
  },
  {
   "cell_type": "code",
   "execution_count": 4,
   "id": "67c438e2",
   "metadata": {},
   "outputs": [],
   "source": [
    "#2 Загружаем данные \n",
    "# df = pd.read_csv('файл.csv')\n",
    "# я буду загружать тестовый, ибо не определились с базой\n",
    "\n",
    "iris = datasets.load_iris()\n",
    "features = iris.data"
   ]
  },
  {
   "cell_type": "code",
   "execution_count": 5,
   "id": "691f00b9",
   "metadata": {},
   "outputs": [],
   "source": [
    "#3 стандартизируем признаки\n",
    "scaler = StandardScaler()\n",
    "features_std = scaler.fit_transform(features)"
   ]
  },
  {
   "cell_type": "code",
   "execution_count": 8,
   "id": "a2696606",
   "metadata": {},
   "outputs": [],
   "source": [
    "#4 создаем объект для средних\n",
    "cluster = KMeans(n_clusters = 3, random_state=0)"
   ]
  },
  {
   "cell_type": "code",
   "execution_count": 9,
   "id": "5ab29e6d",
   "metadata": {},
   "outputs": [],
   "source": [
    "#5 натренировываем модель\n",
    "model = cluster.fit(features_std)"
   ]
  },
  {
   "cell_type": "code",
   "execution_count": null,
   "id": "b9b10506",
   "metadata": {},
   "outputs": [],
   "source": []
  }
 ],
 "metadata": {
  "kernelspec": {
   "display_name": "Python 3 (ipykernel)",
   "language": "python",
   "name": "python3"
  },
  "language_info": {
   "codemirror_mode": {
    "name": "ipython",
    "version": 3
   },
   "file_extension": ".py",
   "mimetype": "text/x-python",
   "name": "python",
   "nbconvert_exporter": "python",
   "pygments_lexer": "ipython3",
   "version": "3.9.13"
  }
 },
 "nbformat": 4,
 "nbformat_minor": 5
}
